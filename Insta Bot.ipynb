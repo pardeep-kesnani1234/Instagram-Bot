{
 "cells": [
  {
   "cell_type": "markdown",
   "metadata": {},
   "source": [
    "# Requirement\n",
    " 1. Install selenium with pip command\n",
    " 2. install chrome webdriver which is comaptible with your browser \n",
    " 3. install sleep library for delay \n",
    " \n",
    "Finally You are ready to Rock  (Good Luck!)"
   ]
  },
  {
   "cell_type": "code",
   "execution_count": null,
   "metadata": {},
   "outputs": [],
   "source": [
    "from selenium import webdriver\n",
    "from time import sleep"
   ]
  },
  {
   "cell_type": "code",
   "execution_count": null,
   "metadata": {},
   "outputs": [],
   "source": [
    "username= 'pardeep.kesnani'\n",
    "password = ''"
   ]
  },
  {
   "cell_type": "code",
   "execution_count": null,
   "metadata": {
    "scrolled": true
   },
   "outputs": [],
   "source": [
    "class InstaBot:\n",
    "    def __init__(self, username, pw):\n",
    "        self.driver = webdriver.Chrome()\n",
    "        self.username = username\n",
    "        print(\"Opening Instagram\")\n",
    "        self.driver.get(\"https://instagram.com\")\n",
    "        sleep(2)\n",
    "        #self.driver.find_element_by_xpath(\"//a[contains(text(), 'Log in')]\")\\\n",
    "        #    .click()\n",
    "        print(\"Entering Username and password\")\n",
    "        #sleep(2)\n",
    "        self.driver.find_element_by_xpath(\"//input[@name=\\\"username\\\"]\")\\\n",
    "            .send_keys(username)\n",
    "        self.driver.find_element_by_xpath(\"//input[@name=\\\"password\\\"]\")\\\n",
    "            .send_keys(pw)\n",
    "        self.driver.find_element_by_xpath('//button[@type=\"submit\"]')\\\n",
    "            .click()\n",
    "        print(\"Logged In\")\n",
    "        sleep(4)\n",
    "        self.driver.find_element_by_xpath(\"//button[contains(text(), 'Not Now')]\")\\\n",
    "            .click()\n",
    "        sleep(5)\n",
    "\n",
    "    def get_unfollowers(self):\n",
    "        print(\"Opening Profile\")\n",
    "        self.driver.find_element_by_xpath(\"//a[contains(@href,'/{}')]\".format(self.username))\\\n",
    "            .click()\n",
    "        sleep(2)\n",
    "        print(\"Analyzing people i follow\")\n",
    "        self.driver.find_element_by_xpath(\"//a[contains(@href,'/following')]\")\\\n",
    "            .click()\n",
    "        following = self._get_names()\n",
    "        print(\"Analyzing my followers\")\n",
    "        self.driver.find_element_by_xpath(\"//a[contains(@href,'/followers')]\")\\\n",
    "            .click()\n",
    "        followers = self._get_names()\n",
    "        not_following_back = [user for user in following if user not in followers]\n",
    "        print(\"Here is the list of people whom you follow but they aren't following you\")\n",
    "        print(not_following_back)\n",
    "\n",
    "    def _get_names(self):\n",
    "        sleep(2)\n",
    "        #sugs = self.driver.find_element_by_xpath('//h4[contains(text(), Suggestions)]')\n",
    "        #self.driver.execute_script('arguments[0].scrollIntoView()', )\n",
    "        #sleep(2)\n",
    "        scroll_box = self.driver.find_element_by_xpath(\"/html/body/div[4]/div/div[2]\")\n",
    "        last_ht, ht = 0, 1\n",
    "        while last_ht != ht:\n",
    "            last_ht = ht\n",
    "            sleep(1)\n",
    "            ht = self.driver.execute_script(\"\"\"\n",
    "                arguments[0].scrollTo(0, arguments[0].scrollHeight); \n",
    "                return arguments[0].scrollHeight;\n",
    "                \"\"\", scroll_box)\n",
    "        links = scroll_box.find_elements_by_tag_name('a')\n",
    "        names = [name.text for name in links if name.text != '']\n",
    "        # close button\n",
    "        self.driver.find_element_by_xpath(\"/html/body/div[4]/div/div[1]/div/div[2]/button\")\\\n",
    "            .click()\n",
    "        return names"
   ]
  },
  {
   "cell_type": "code",
   "execution_count": null,
   "metadata": {},
   "outputs": [],
   "source": [
    "my_bot = InstaBot(username, password)\n",
    "my_bot.get_unfollowers()"
   ]
  }
 ],
 "metadata": {
  "kernelspec": {
   "display_name": "Python 3",
   "language": "python",
   "name": "python3"
  },
  "language_info": {
   "codemirror_mode": {
    "name": "ipython",
    "version": 3
   },
   "file_extension": ".py",
   "mimetype": "text/x-python",
   "name": "python",
   "nbconvert_exporter": "python",
   "pygments_lexer": "ipython3",
   "version": "3.6.10"
  }
 },
 "nbformat": 4,
 "nbformat_minor": 4
}
